{
 "cells": [
  {
   "cell_type": "markdown",
   "metadata": {},
   "source": [
    "### Import Statements"
   ]
  },
  {
   "cell_type": "code",
   "execution_count": 1,
   "metadata": {},
   "outputs": [],
   "source": [
    "import numpy as np\n",
    "import pandas as pd\n",
    "from bokeh.plotting import figure, output_file, show, ColumnDataSource, output_notebook, save\n",
    "from bokeh.models.tools import HoverTool\n",
    "from bokeh.transform import factor_cmap\n",
    "from bokeh.palettes import Blues8\n",
    "from bokeh.embed import components\n",
    "\n",
    "from ipywidgets import interact\n"
   ]
  },
  {
   "cell_type": "code",
   "execution_count": 2,
   "metadata": {},
   "outputs": [],
   "source": [
    "import warnings\n",
    "\n",
    "warnings.simplefilter('ignore')"
   ]
  },
  {
   "cell_type": "markdown",
   "metadata": {},
   "source": [
    "### Reading Data from CSV"
   ]
  },
  {
   "cell_type": "code",
   "execution_count": 3,
   "metadata": {},
   "outputs": [],
   "source": [
    "#Get data from stored csv files\n",
    "\n",
    "# Hindi GEC channels with start plus\n",
    "hindi_gec_df = pd.read_csv('brand_grps_hindi_tg_r.csv')\n",
    "hindi_gec_df.fillna('STAR Plus', inplace = True)\n",
    "hindi_gec_df = hindi_gec_df.round(2)\n",
    "\n",
    "# Movie channels\n",
    "movies_df = pd.read_csv('brand_grps_movies_tg_r.csv')\n",
    "movies_df.fillna('Movies OK', inplace = True)\n",
    "movies_df = movies_df.round(2)"
   ]
  },
  {
   "cell_type": "code",
   "execution_count": 4,
   "metadata": {},
   "outputs": [],
   "source": [
    "brand_list = hindi_gec_df['brand'].unique().tolist()"
   ]
  },
  {
   "cell_type": "code",
   "execution_count": 5,
   "metadata": {},
   "outputs": [
    {
     "data": {
      "text/plain": [
       "array(['Movies OK', '&pictures', 'Zee Anmol Cinema', 'Zee Cinema',\n",
       "       'Colors Cineplex', 'UTV Movies', 'B4U Movies'], dtype=object)"
      ]
     },
     "execution_count": 5,
     "metadata": {},
     "output_type": "execute_result"
    }
   ],
   "source": [
    "movies_df['channel'].unique()"
   ]
  },
  {
   "cell_type": "markdown",
   "metadata": {},
   "source": [
    "### Setting popular regions and targets for graph selection"
   ]
  },
  {
   "cell_type": "code",
   "execution_count": 6,
   "metadata": {},
   "outputs": [],
   "source": [
    "region_list= ['HSM (EXCL. WB) (U)', 'MEGA CITIES', 'HSM (EXCL. NORTH EAST) (U)', 'MUM DEL BANG','ALL INDIA (U)','HSM (U+R)']"
   ]
  },
  {
   "cell_type": "code",
   "execution_count": 7,
   "metadata": {},
   "outputs": [],
   "source": [
    "target_list= ['CS 15-40 AB','CS F 22-50 AB','CS 22-40 AB', 'CS F 22-50 ABC']"
   ]
  },
  {
   "cell_type": "markdown",
   "metadata": {},
   "source": [
    "### Filtering dataset based on inputs from dropdowns"
   ]
  },
  {
   "cell_type": "code",
   "execution_count": 8,
   "metadata": {},
   "outputs": [],
   "source": [
    "# Update all\n",
    "\n",
    "\n",
    "def create_dataset(chan_type, target, brand,region):\n",
    "    if chan_type == \"Hindi GEC\": \n",
    "        df = hindi_gec_df\n",
    "        brand_list = hindi_gec_df['brand'].unique().tolist()\n",
    "\n",
    "\n",
    "    elif chan_type == \"Movie channel\":\n",
    "        df = movies_df\n",
    "        brand_list = movies_df['brand'].unique().tolist()\n",
    "        \n",
    "\n",
    "    df = df[df['target']==target]\n",
    "    df = df[df['regions']== region]\n",
    "    df = df[df['brand']== brand]\n",
    "\n",
    "    \n",
    "    source = ColumnDataSource(df)\n",
    "    return source\n"
   ]
  },
  {
   "cell_type": "markdown",
   "metadata": {},
   "source": [
    "### Updating graph based on new filtered data"
   ]
  },
  {
   "cell_type": "code",
   "execution_count": 9,
   "metadata": {},
   "outputs": [],
   "source": [
    "def update_plot(chan_type, target, brand, region):\n",
    "\n",
    "    # setting bokeh output to show in notebook\n",
    "    output_notebook()\n",
    "    \n",
    "    #getting converted columnsource dataset from function\n",
    "    source = create_dataset(chan_type, target, brand, region)\n",
    "    \n",
    "    #creating list of channels based on type\n",
    "    channel_list = source.data['channel'].tolist()\n",
    "    \n",
    "    #setting properties of the graph\n",
    "    p = figure(\n",
    "    y_range = channel_list,\n",
    "    title = \"{}|{}| {}| {}\".format(chan_type, target, region, brand) ,\n",
    "    x_axis_label = 'GRP',\n",
    "    y_axis_label = 'Channel Names',\n",
    "    tools = 'box_select, pan, zoom_in, zoom_out, reset')\n",
    "    \n",
    "    \n",
    "    # plotting a horizontal bar from the dataset\n",
    "    p.hbar(y='channel', right = 'grp', left=0, fill_alpha = 0.9, height =0.4, source = source, \n",
    "           fill_color = factor_cmap('channel', palette = Blues8, factors= channel_list))\n",
    "    \n",
    "    #setting legend properties\n",
    "    p.legend.orientation = 'vertical'\n",
    "    p.legend.location = 'bottom_right'\n",
    "    p.legend.label_text_font_size = \"8px\"\n",
    "    \n",
    "    # adding hover option to show grp, ad length and weighted rating of selected channel\n",
    "    hover = HoverTool()\n",
    "    hover.tooltips = \"\"\"\n",
    "\n",
    "        <div>\n",
    "            <h3>@channel</h3>\n",
    "            <div><strong>GRP: @grp</strong></div>\n",
    "            <div><strong>Total Length of ad: @tot_ad_len</strong></div>\n",
    "            <div><strong>Weighted Rating: @wgt_rat</strong></div>\n",
    "        </div>\n",
    "    \"\"\"\n",
    "    p.add_tools(hover)\n",
    "    \n",
    "    #showing the graph\n",
    "    show(p)"
   ]
  },
  {
   "cell_type": "markdown",
   "metadata": {},
   "source": [
    "### Adding interactive options for graph"
   ]
  },
  {
   "cell_type": "code",
   "execution_count": 10,
   "metadata": {
    "scrolled": false
   },
   "outputs": [
    {
     "data": {
      "text/html": [
       "\n",
       "    <div class=\"bk-root\">\n",
       "        <a href=\"https://bokeh.pydata.org\" target=\"_blank\" class=\"bk-logo bk-logo-small bk-logo-notebook\"></a>\n",
       "        <span id=\"1001\">Loading BokehJS ...</span>\n",
       "    </div>"
      ]
     },
     "metadata": {},
     "output_type": "display_data"
    },
    {
     "data": {
      "application/javascript": [
       "\n",
       "(function(root) {\n",
       "  function now() {\n",
       "    return new Date();\n",
       "  }\n",
       "\n",
       "  var force = true;\n",
       "\n",
       "  if (typeof (root._bokeh_onload_callbacks) === \"undefined\" || force === true) {\n",
       "    root._bokeh_onload_callbacks = [];\n",
       "    root._bokeh_is_loading = undefined;\n",
       "  }\n",
       "\n",
       "  var JS_MIME_TYPE = 'application/javascript';\n",
       "  var HTML_MIME_TYPE = 'text/html';\n",
       "  var EXEC_MIME_TYPE = 'application/vnd.bokehjs_exec.v0+json';\n",
       "  var CLASS_NAME = 'output_bokeh rendered_html';\n",
       "\n",
       "  /**\n",
       "   * Render data to the DOM node\n",
       "   */\n",
       "  function render(props, node) {\n",
       "    var script = document.createElement(\"script\");\n",
       "    node.appendChild(script);\n",
       "  }\n",
       "\n",
       "  /**\n",
       "   * Handle when an output is cleared or removed\n",
       "   */\n",
       "  function handleClearOutput(event, handle) {\n",
       "    var cell = handle.cell;\n",
       "\n",
       "    var id = cell.output_area._bokeh_element_id;\n",
       "    var server_id = cell.output_area._bokeh_server_id;\n",
       "    // Clean up Bokeh references\n",
       "    if (id != null && id in Bokeh.index) {\n",
       "      Bokeh.index[id].model.document.clear();\n",
       "      delete Bokeh.index[id];\n",
       "    }\n",
       "\n",
       "    if (server_id !== undefined) {\n",
       "      // Clean up Bokeh references\n",
       "      var cmd = \"from bokeh.io.state import curstate; print(curstate().uuid_to_server['\" + server_id + \"'].get_sessions()[0].document.roots[0]._id)\";\n",
       "      cell.notebook.kernel.execute(cmd, {\n",
       "        iopub: {\n",
       "          output: function(msg) {\n",
       "            var id = msg.content.text.trim();\n",
       "            if (id in Bokeh.index) {\n",
       "              Bokeh.index[id].model.document.clear();\n",
       "              delete Bokeh.index[id];\n",
       "            }\n",
       "          }\n",
       "        }\n",
       "      });\n",
       "      // Destroy server and session\n",
       "      var cmd = \"import bokeh.io.notebook as ion; ion.destroy_server('\" + server_id + \"')\";\n",
       "      cell.notebook.kernel.execute(cmd);\n",
       "    }\n",
       "  }\n",
       "\n",
       "  /**\n",
       "   * Handle when a new output is added\n",
       "   */\n",
       "  function handleAddOutput(event, handle) {\n",
       "    var output_area = handle.output_area;\n",
       "    var output = handle.output;\n",
       "\n",
       "    // limit handleAddOutput to display_data with EXEC_MIME_TYPE content only\n",
       "    if ((output.output_type != \"display_data\") || (!output.data.hasOwnProperty(EXEC_MIME_TYPE))) {\n",
       "      return\n",
       "    }\n",
       "\n",
       "    var toinsert = output_area.element.find(\".\" + CLASS_NAME.split(' ')[0]);\n",
       "\n",
       "    if (output.metadata[EXEC_MIME_TYPE][\"id\"] !== undefined) {\n",
       "      toinsert[toinsert.length - 1].firstChild.textContent = output.data[JS_MIME_TYPE];\n",
       "      // store reference to embed id on output_area\n",
       "      output_area._bokeh_element_id = output.metadata[EXEC_MIME_TYPE][\"id\"];\n",
       "    }\n",
       "    if (output.metadata[EXEC_MIME_TYPE][\"server_id\"] !== undefined) {\n",
       "      var bk_div = document.createElement(\"div\");\n",
       "      bk_div.innerHTML = output.data[HTML_MIME_TYPE];\n",
       "      var script_attrs = bk_div.children[0].attributes;\n",
       "      for (var i = 0; i < script_attrs.length; i++) {\n",
       "        toinsert[toinsert.length - 1].firstChild.setAttribute(script_attrs[i].name, script_attrs[i].value);\n",
       "      }\n",
       "      // store reference to server id on output_area\n",
       "      output_area._bokeh_server_id = output.metadata[EXEC_MIME_TYPE][\"server_id\"];\n",
       "    }\n",
       "  }\n",
       "\n",
       "  function register_renderer(events, OutputArea) {\n",
       "\n",
       "    function append_mime(data, metadata, element) {\n",
       "      // create a DOM node to render to\n",
       "      var toinsert = this.create_output_subarea(\n",
       "        metadata,\n",
       "        CLASS_NAME,\n",
       "        EXEC_MIME_TYPE\n",
       "      );\n",
       "      this.keyboard_manager.register_events(toinsert);\n",
       "      // Render to node\n",
       "      var props = {data: data, metadata: metadata[EXEC_MIME_TYPE]};\n",
       "      render(props, toinsert[toinsert.length - 1]);\n",
       "      element.append(toinsert);\n",
       "      return toinsert\n",
       "    }\n",
       "\n",
       "    /* Handle when an output is cleared or removed */\n",
       "    events.on('clear_output.CodeCell', handleClearOutput);\n",
       "    events.on('delete.Cell', handleClearOutput);\n",
       "\n",
       "    /* Handle when a new output is added */\n",
       "    events.on('output_added.OutputArea', handleAddOutput);\n",
       "\n",
       "    /**\n",
       "     * Register the mime type and append_mime function with output_area\n",
       "     */\n",
       "    OutputArea.prototype.register_mime_type(EXEC_MIME_TYPE, append_mime, {\n",
       "      /* Is output safe? */\n",
       "      safe: true,\n",
       "      /* Index of renderer in `output_area.display_order` */\n",
       "      index: 0\n",
       "    });\n",
       "  }\n",
       "\n",
       "  // register the mime type if in Jupyter Notebook environment and previously unregistered\n",
       "  if (root.Jupyter !== undefined) {\n",
       "    var events = require('base/js/events');\n",
       "    var OutputArea = require('notebook/js/outputarea').OutputArea;\n",
       "\n",
       "    if (OutputArea.prototype.mime_types().indexOf(EXEC_MIME_TYPE) == -1) {\n",
       "      register_renderer(events, OutputArea);\n",
       "    }\n",
       "  }\n",
       "\n",
       "  \n",
       "  if (typeof (root._bokeh_timeout) === \"undefined\" || force === true) {\n",
       "    root._bokeh_timeout = Date.now() + 5000;\n",
       "    root._bokeh_failed_load = false;\n",
       "  }\n",
       "\n",
       "  var NB_LOAD_WARNING = {'data': {'text/html':\n",
       "     \"<div style='background-color: #fdd'>\\n\"+\n",
       "     \"<p>\\n\"+\n",
       "     \"BokehJS does not appear to have successfully loaded. If loading BokehJS from CDN, this \\n\"+\n",
       "     \"may be due to a slow or bad network connection. Possible fixes:\\n\"+\n",
       "     \"</p>\\n\"+\n",
       "     \"<ul>\\n\"+\n",
       "     \"<li>re-rerun `output_notebook()` to attempt to load from CDN again, or</li>\\n\"+\n",
       "     \"<li>use INLINE resources instead, as so:</li>\\n\"+\n",
       "     \"</ul>\\n\"+\n",
       "     \"<code>\\n\"+\n",
       "     \"from bokeh.resources import INLINE\\n\"+\n",
       "     \"output_notebook(resources=INLINE)\\n\"+\n",
       "     \"</code>\\n\"+\n",
       "     \"</div>\"}};\n",
       "\n",
       "  function display_loaded() {\n",
       "    var el = document.getElementById(\"1001\");\n",
       "    if (el != null) {\n",
       "      el.textContent = \"BokehJS is loading...\";\n",
       "    }\n",
       "    if (root.Bokeh !== undefined) {\n",
       "      if (el != null) {\n",
       "        el.textContent = \"BokehJS \" + root.Bokeh.version + \" successfully loaded.\";\n",
       "      }\n",
       "    } else if (Date.now() < root._bokeh_timeout) {\n",
       "      setTimeout(display_loaded, 100)\n",
       "    }\n",
       "  }\n",
       "\n",
       "\n",
       "  function run_callbacks() {\n",
       "    try {\n",
       "      root._bokeh_onload_callbacks.forEach(function(callback) { callback() });\n",
       "    }\n",
       "    finally {\n",
       "      delete root._bokeh_onload_callbacks\n",
       "    }\n",
       "    console.info(\"Bokeh: all callbacks have finished\");\n",
       "  }\n",
       "\n",
       "  function load_libs(js_urls, callback) {\n",
       "    root._bokeh_onload_callbacks.push(callback);\n",
       "    if (root._bokeh_is_loading > 0) {\n",
       "      console.log(\"Bokeh: BokehJS is being loaded, scheduling callback at\", now());\n",
       "      return null;\n",
       "    }\n",
       "    if (js_urls == null || js_urls.length === 0) {\n",
       "      run_callbacks();\n",
       "      return null;\n",
       "    }\n",
       "    console.log(\"Bokeh: BokehJS not loaded, scheduling load and callback at\", now());\n",
       "    root._bokeh_is_loading = js_urls.length;\n",
       "    for (var i = 0; i < js_urls.length; i++) {\n",
       "      var url = js_urls[i];\n",
       "      var s = document.createElement('script');\n",
       "      s.src = url;\n",
       "      s.async = false;\n",
       "      s.onreadystatechange = s.onload = function() {\n",
       "        root._bokeh_is_loading--;\n",
       "        if (root._bokeh_is_loading === 0) {\n",
       "          console.log(\"Bokeh: all BokehJS libraries loaded\");\n",
       "          run_callbacks()\n",
       "        }\n",
       "      };\n",
       "      s.onerror = function() {\n",
       "        console.warn(\"failed to load library \" + url);\n",
       "      };\n",
       "      console.log(\"Bokeh: injecting script tag for BokehJS library: \", url);\n",
       "      document.getElementsByTagName(\"head\")[0].appendChild(s);\n",
       "    }\n",
       "  };var element = document.getElementById(\"1001\");\n",
       "  if (element == null) {\n",
       "    console.log(\"Bokeh: ERROR: autoload.js configured with elementid '1001' but no matching script tag was found. \")\n",
       "    return false;\n",
       "  }\n",
       "\n",
       "  var js_urls = [\"https://cdn.pydata.org/bokeh/release/bokeh-1.0.4.min.js\", \"https://cdn.pydata.org/bokeh/release/bokeh-widgets-1.0.4.min.js\", \"https://cdn.pydata.org/bokeh/release/bokeh-tables-1.0.4.min.js\", \"https://cdn.pydata.org/bokeh/release/bokeh-gl-1.0.4.min.js\"];\n",
       "\n",
       "  var inline_js = [\n",
       "    function(Bokeh) {\n",
       "      Bokeh.set_log_level(\"info\");\n",
       "    },\n",
       "    \n",
       "    function(Bokeh) {\n",
       "      \n",
       "    },\n",
       "    function(Bokeh) {\n",
       "      console.log(\"Bokeh: injecting CSS: https://cdn.pydata.org/bokeh/release/bokeh-1.0.4.min.css\");\n",
       "      Bokeh.embed.inject_css(\"https://cdn.pydata.org/bokeh/release/bokeh-1.0.4.min.css\");\n",
       "      console.log(\"Bokeh: injecting CSS: https://cdn.pydata.org/bokeh/release/bokeh-widgets-1.0.4.min.css\");\n",
       "      Bokeh.embed.inject_css(\"https://cdn.pydata.org/bokeh/release/bokeh-widgets-1.0.4.min.css\");\n",
       "      console.log(\"Bokeh: injecting CSS: https://cdn.pydata.org/bokeh/release/bokeh-tables-1.0.4.min.css\");\n",
       "      Bokeh.embed.inject_css(\"https://cdn.pydata.org/bokeh/release/bokeh-tables-1.0.4.min.css\");\n",
       "    }\n",
       "  ];\n",
       "\n",
       "  function run_inline_js() {\n",
       "    \n",
       "    if ((root.Bokeh !== undefined) || (force === true)) {\n",
       "      for (var i = 0; i < inline_js.length; i++) {\n",
       "        inline_js[i].call(root, root.Bokeh);\n",
       "      }if (force === true) {\n",
       "        display_loaded();\n",
       "      }} else if (Date.now() < root._bokeh_timeout) {\n",
       "      setTimeout(run_inline_js, 100);\n",
       "    } else if (!root._bokeh_failed_load) {\n",
       "      console.log(\"Bokeh: BokehJS failed to load within specified timeout.\");\n",
       "      root._bokeh_failed_load = true;\n",
       "    } else if (force !== true) {\n",
       "      var cell = $(document.getElementById(\"1001\")).parents('.cell').data().cell;\n",
       "      cell.output_area.append_execute_result(NB_LOAD_WARNING)\n",
       "    }\n",
       "\n",
       "  }\n",
       "\n",
       "  if (root._bokeh_is_loading === 0) {\n",
       "    console.log(\"Bokeh: BokehJS loaded, going straight to plotting\");\n",
       "    run_inline_js();\n",
       "  } else {\n",
       "    load_libs(js_urls, function() {\n",
       "      console.log(\"Bokeh: BokehJS plotting callback run at\", now());\n",
       "      run_inline_js();\n",
       "    });\n",
       "  }\n",
       "}(window));"
      ],
      "application/vnd.bokehjs_load.v0+json": "\n(function(root) {\n  function now() {\n    return new Date();\n  }\n\n  var force = true;\n\n  if (typeof (root._bokeh_onload_callbacks) === \"undefined\" || force === true) {\n    root._bokeh_onload_callbacks = [];\n    root._bokeh_is_loading = undefined;\n  }\n\n  \n\n  \n  if (typeof (root._bokeh_timeout) === \"undefined\" || force === true) {\n    root._bokeh_timeout = Date.now() + 5000;\n    root._bokeh_failed_load = false;\n  }\n\n  var NB_LOAD_WARNING = {'data': {'text/html':\n     \"<div style='background-color: #fdd'>\\n\"+\n     \"<p>\\n\"+\n     \"BokehJS does not appear to have successfully loaded. If loading BokehJS from CDN, this \\n\"+\n     \"may be due to a slow or bad network connection. Possible fixes:\\n\"+\n     \"</p>\\n\"+\n     \"<ul>\\n\"+\n     \"<li>re-rerun `output_notebook()` to attempt to load from CDN again, or</li>\\n\"+\n     \"<li>use INLINE resources instead, as so:</li>\\n\"+\n     \"</ul>\\n\"+\n     \"<code>\\n\"+\n     \"from bokeh.resources import INLINE\\n\"+\n     \"output_notebook(resources=INLINE)\\n\"+\n     \"</code>\\n\"+\n     \"</div>\"}};\n\n  function display_loaded() {\n    var el = document.getElementById(\"1001\");\n    if (el != null) {\n      el.textContent = \"BokehJS is loading...\";\n    }\n    if (root.Bokeh !== undefined) {\n      if (el != null) {\n        el.textContent = \"BokehJS \" + root.Bokeh.version + \" successfully loaded.\";\n      }\n    } else if (Date.now() < root._bokeh_timeout) {\n      setTimeout(display_loaded, 100)\n    }\n  }\n\n\n  function run_callbacks() {\n    try {\n      root._bokeh_onload_callbacks.forEach(function(callback) { callback() });\n    }\n    finally {\n      delete root._bokeh_onload_callbacks\n    }\n    console.info(\"Bokeh: all callbacks have finished\");\n  }\n\n  function load_libs(js_urls, callback) {\n    root._bokeh_onload_callbacks.push(callback);\n    if (root._bokeh_is_loading > 0) {\n      console.log(\"Bokeh: BokehJS is being loaded, scheduling callback at\", now());\n      return null;\n    }\n    if (js_urls == null || js_urls.length === 0) {\n      run_callbacks();\n      return null;\n    }\n    console.log(\"Bokeh: BokehJS not loaded, scheduling load and callback at\", now());\n    root._bokeh_is_loading = js_urls.length;\n    for (var i = 0; i < js_urls.length; i++) {\n      var url = js_urls[i];\n      var s = document.createElement('script');\n      s.src = url;\n      s.async = false;\n      s.onreadystatechange = s.onload = function() {\n        root._bokeh_is_loading--;\n        if (root._bokeh_is_loading === 0) {\n          console.log(\"Bokeh: all BokehJS libraries loaded\");\n          run_callbacks()\n        }\n      };\n      s.onerror = function() {\n        console.warn(\"failed to load library \" + url);\n      };\n      console.log(\"Bokeh: injecting script tag for BokehJS library: \", url);\n      document.getElementsByTagName(\"head\")[0].appendChild(s);\n    }\n  };var element = document.getElementById(\"1001\");\n  if (element == null) {\n    console.log(\"Bokeh: ERROR: autoload.js configured with elementid '1001' but no matching script tag was found. \")\n    return false;\n  }\n\n  var js_urls = [\"https://cdn.pydata.org/bokeh/release/bokeh-1.0.4.min.js\", \"https://cdn.pydata.org/bokeh/release/bokeh-widgets-1.0.4.min.js\", \"https://cdn.pydata.org/bokeh/release/bokeh-tables-1.0.4.min.js\", \"https://cdn.pydata.org/bokeh/release/bokeh-gl-1.0.4.min.js\"];\n\n  var inline_js = [\n    function(Bokeh) {\n      Bokeh.set_log_level(\"info\");\n    },\n    \n    function(Bokeh) {\n      \n    },\n    function(Bokeh) {\n      console.log(\"Bokeh: injecting CSS: https://cdn.pydata.org/bokeh/release/bokeh-1.0.4.min.css\");\n      Bokeh.embed.inject_css(\"https://cdn.pydata.org/bokeh/release/bokeh-1.0.4.min.css\");\n      console.log(\"Bokeh: injecting CSS: https://cdn.pydata.org/bokeh/release/bokeh-widgets-1.0.4.min.css\");\n      Bokeh.embed.inject_css(\"https://cdn.pydata.org/bokeh/release/bokeh-widgets-1.0.4.min.css\");\n      console.log(\"Bokeh: injecting CSS: https://cdn.pydata.org/bokeh/release/bokeh-tables-1.0.4.min.css\");\n      Bokeh.embed.inject_css(\"https://cdn.pydata.org/bokeh/release/bokeh-tables-1.0.4.min.css\");\n    }\n  ];\n\n  function run_inline_js() {\n    \n    if ((root.Bokeh !== undefined) || (force === true)) {\n      for (var i = 0; i < inline_js.length; i++) {\n        inline_js[i].call(root, root.Bokeh);\n      }if (force === true) {\n        display_loaded();\n      }} else if (Date.now() < root._bokeh_timeout) {\n      setTimeout(run_inline_js, 100);\n    } else if (!root._bokeh_failed_load) {\n      console.log(\"Bokeh: BokehJS failed to load within specified timeout.\");\n      root._bokeh_failed_load = true;\n    } else if (force !== true) {\n      var cell = $(document.getElementById(\"1001\")).parents('.cell').data().cell;\n      cell.output_area.append_execute_result(NB_LOAD_WARNING)\n    }\n\n  }\n\n  if (root._bokeh_is_loading === 0) {\n    console.log(\"Bokeh: BokehJS loaded, going straight to plotting\");\n    run_inline_js();\n  } else {\n    load_libs(js_urls, function() {\n      console.log(\"Bokeh: BokehJS plotting callback run at\", now());\n      run_inline_js();\n    });\n  }\n}(window));"
     },
     "metadata": {},
     "output_type": "display_data"
    },
    {
     "data": {
      "application/vnd.jupyter.widget-view+json": {
       "model_id": "d6fdb50661784001897731ccb2095c56",
       "version_major": 2,
       "version_minor": 0
      },
      "text/plain": [
       "interactive(children=(Dropdown(description='chan_type', options=('Hindi GEC', 'Movie channel'), value='Hindi G…"
      ]
     },
     "metadata": {},
     "output_type": "display_data"
    },
    {
     "data": {
      "text/plain": [
       "<function __main__.update_plot(chan_type, target, brand, region)>"
      ]
     },
     "execution_count": 10,
     "metadata": {},
     "output_type": "execute_result"
    }
   ],
   "source": [
    "from bokeh.io import push_notebook, show, output_notebook\n",
    "from bokeh.plotting import figure\n",
    "output_notebook()\n",
    "interact(update_plot, chan_type=[\"Hindi GEC\", \"Movie channel\"], target = target_list, brand = brand_list, region = region_list)"
   ]
  },
  {
   "cell_type": "markdown",
   "metadata": {},
   "source": [
    "## All Brands where STAR GRP is less than 50% of the highest GRP"
   ]
  },
  {
   "cell_type": "code",
   "execution_count": 11,
   "metadata": {},
   "outputs": [],
   "source": [
    "star_channel_brands = pd.read_csv('channel_wise_star_grp.csv')\n",
    "# star_channel_brands.head()\n",
    "# star_channel_brands['channel'].unique()"
   ]
  },
  {
   "cell_type": "code",
   "execution_count": 12,
   "metadata": {},
   "outputs": [],
   "source": [
    "star_brands = pd.read_csv('star_brands.csv')\n",
    "non_star_brands = pd.read_csv('non_star_brands.csv')\n"
   ]
  },
  {
   "cell_type": "code",
   "execution_count": 13,
   "metadata": {},
   "outputs": [],
   "source": [
    "non_star_channel_brands = pd.read_csv('channel_wise_non_star_grp.csv')\n",
    "# non_star_channel_brands.head()\n",
    "# non_star_channel_brands['channel'].unique()"
   ]
  },
  {
   "cell_type": "code",
   "execution_count": 14,
   "metadata": {},
   "outputs": [],
   "source": [
    "#df[df['grp'] == df.groupby(['brand'])['grp'].transform(max)]"
   ]
  },
  {
   "cell_type": "code",
   "execution_count": 15,
   "metadata": {},
   "outputs": [],
   "source": [
    "import numpy as np\n",
    "import matplotlib.pyplot as plt\n",
    "\n",
    "df = pd.concat([star_brands, non_star_brands])\n",
    "df_default = pd.concat([non_star_channel_brands, star_channel_brands])\n",
    "\n",
    "# Creates a data set based on user input and plots the graph\n",
    "def plot_brands(star_plus, movies_ok, zee_tv, GRP_brand, STAR_Utsav,STAR_Gold,and_pictures, utv_action, sony_sab, colors, b4u_movies, big_magic, Sony_entertainment,Total_ad_length, brand, target, region):\n",
    "    df = pd.concat([star_brands, non_star_brands])\n",
    "    \n",
    "    #Creating a list of channels based on input from user\n",
    "    channel_list = []\n",
    "    if star_plus==True:\n",
    "        channel_list.append('STAR Plus')\n",
    "    if movies_ok==True:\n",
    "        channel_list.append('Movies OK')\n",
    "    if zee_tv==True:\n",
    "        channel_list.append('Zee TV')\n",
    "    if STAR_Utsav==True:\n",
    "        channel_list.append('STAR Utsav')\n",
    "    if STAR_Gold==True:\n",
    "        channel_list.append('STAR Gold')\n",
    "    if and_pictures==True:\n",
    "        channel_list.append('&pictures')\n",
    "    if utv_action==True:\n",
    "        channel_list.append('UTV Action')\n",
    "    if sony_sab==True:\n",
    "        channel_list.append('SONY SAB')\n",
    "    if colors==True:\n",
    "        channel_list.append('Colors')\n",
    "    if b4u_movies==True:\n",
    "        channel_list.append('B4U Movies')\n",
    "    if big_magic==True:\n",
    "        channel_list.append('Big Magic')\n",
    "    if Sony_entertainment==True:\n",
    "        channel_list.append('Sony Entertainment Television')\n",
    "        \n",
    "    \n",
    "    #Creating a dataset with the channels from the list\n",
    "    df1 = df[df['brand']==brand]\n",
    "    df1 = df1[df1.channel.isin(channel_list)]\n",
    "    target_list = df1['target'].unique().tolist()\n",
    "    df1 = df1[df1['target']==target]\n",
    "    region_list = df1['regions'].unique().tolist()\n",
    "    df1 = df1[df1['regions']==region]\n",
    "\n",
    "\n",
    "    # Plots the graph\n",
    "    t= df1['channel']\n",
    "    data1=df1['grp']\n",
    "    data2 = df1['tot_ad_len']\n",
    "    fig, ax1 = plt.subplots()\n",
    "    fig.set_size_inches(25, 9)\n",
    "    color = 'tab:red'\n",
    "    ax1.set_xlabel('Channels')\n",
    "    ax1.set_ylabel('GRP of Brands', color=color)\n",
    "    if GRP_brand == True:\n",
    "        ax1.plot(t, data1, color=color)\n",
    "        ax1.tick_params(axis='y', labelcolor=color)\n",
    "\n",
    "    ax2 = ax1.twinx()  \n",
    "    \n",
    "    color = 'tab:blue'\n",
    "    ax2.set_ylabel('Length of advertise in (s)', color=color) \n",
    "    \n",
    "    if Total_ad_length==True:\n",
    "        ax2.plot(t, data2, color=color)\n",
    "        ax2.tick_params(axis='y', labelcolor=color)\n",
    "\n",
    "    fig.tight_layout()\n",
    "    plt.title(brand)\n",
    "    plt.legend('brand')\n",
    "    plt.show()"
   ]
  },
  {
   "cell_type": "code",
   "execution_count": 16,
   "metadata": {},
   "outputs": [],
   "source": [
    "#df[df['grp'] == df.groupby(['channel'])['grp'].transform(max)] --3505.728183\n",
    "\n",
    "brand_list_less = []\n",
    "\n",
    "for b in non_star_channel_brands['brand'].unique():\n",
    "    temp = non_star_channel_brands[non_star_channel_brands['brand']==b]\n",
    "    grp  = temp['grp'].max()\n",
    "    a = star_channel_brands[star_channel_brands['brand']==b]\n",
    "    if len(a)==0:\n",
    "            rn=1\n",
    "    else:\n",
    "            grp_star = a['grp'].max()\n",
    "            if grp_star/grp < 0.5:\n",
    "                brand_list_less.append(b)"
   ]
  },
  {
   "cell_type": "code",
   "execution_count": 17,
   "metadata": {},
   "outputs": [
    {
     "data": {
      "application/vnd.jupyter.widget-view+json": {
       "model_id": "80a9a0f4497c45bc814a2cb00d66a719",
       "version_major": 2,
       "version_minor": 0
      },
      "text/plain": [
       "interactive(children=(Checkbox(value=True, description='star_plus'), Checkbox(value=True, description='movies_…"
      ]
     },
     "metadata": {},
     "output_type": "display_data"
    },
    {
     "data": {
      "text/plain": [
       "<function __main__.plot_brands(star_plus, movies_ok, zee_tv, GRP_brand, STAR_Utsav, STAR_Gold, and_pictures, utv_action, sony_sab, colors, b4u_movies, big_magic, Sony_entertainment, Total_ad_length, brand, target, region)>"
      ]
     },
     "execution_count": 17,
     "metadata": {},
     "output_type": "execute_result"
    }
   ],
   "source": [
    "interact(plot_brands,star_plus= True, movies_ok=True, zee_tv=True,STAR_Utsav=True,STAR_Gold = True,and_pictures=True, utv_action=False, sony_sab=True, colors=True, b4u_movies=True, big_magic=False, Sony_entertainment=True, GRP_brand=True, Total_ad_length=True, brand=brand_list_less, target=target_list, region=region_list )"
   ]
  },
  {
   "cell_type": "code",
   "execution_count": 18,
   "metadata": {},
   "outputs": [
    {
     "data": {
      "application/vnd.jupyter.widget-view+json": {
       "model_id": "7d4aab044f004ff0b03fabcfdcdc3cfe",
       "version_major": 2,
       "version_minor": 0
      },
      "text/plain": [
       "VBox(children=(Checkbox(value=False, description='star_plus'), Checkbox(value=False, description='movies_ok'),…"
      ]
     },
     "metadata": {},
     "output_type": "display_data"
    }
   ],
   "source": [
    "from ipywidgets import Checkbox, VBox, Layout, interactive\n",
    "items = ['star_plus', 'movies_ok', 'zee_tv', 'GRP_brand', 'STAR_Utsav','STAR_Gold','and_pictures', 'utv_action', 'sony_sab', 'colors', 'b4u_movies', 'big_magic', 'Sony_entertainment']\n",
    "checkbox_items = [Checkbox(description=name) for name in items]\n",
    "container_layout = Layout(overflow_y='auto', display='block', height='240',border='1px solid black', width='300px')\n",
    "VBox(children=checkbox_items, layout=container_layout)\n",
    "\n",
    "#interact(plot_brands, star_plus=True, movies_ok=True)"
   ]
  },
  {
   "cell_type": "code",
   "execution_count": 19,
   "metadata": {},
   "outputs": [
    {
     "data": {
      "application/vnd.jupyter.widget-view+json": {
       "model_id": "79c212fa66c0417ca67d047add816605",
       "version_major": 2,
       "version_minor": 0
      },
      "text/plain": [
       "VBox(children=(VBox(children=(Checkbox(value=False, description='star_plus'), Checkbox(value=False, descriptio…"
      ]
     },
     "metadata": {},
     "output_type": "display_data"
    }
   ],
   "source": [
    "\n",
    "widget=interactive(plot_brands,star_plus= True, movies_ok=True, zee_tv=True,STAR_Utsav=True,STAR_Gold = True,and_pictures=True, utv_action=False, sony_sab=True, colors=True, b4u_movies=True, big_magic=False, Sony_entertainment=True, GRP_brand=True, Total_ad_length=True, brand=brand_list_less, target=target_list, region=region_list )\n",
    "\n",
    "\n",
    "controls = VBox(children=checkbox_items, layout=container_layout)\n",
    "output = widget.children[-1]\n",
    "display(VBox([controls, output]))"
   ]
  },
  {
   "cell_type": "code",
   "execution_count": 20,
   "metadata": {},
   "outputs": [
    {
     "ename": "SyntaxError",
     "evalue": "invalid syntax (<ipython-input-20-fef238247138>, line 2)",
     "output_type": "error",
     "traceback": [
      "\u001b[0;36m  File \u001b[0;32m\"<ipython-input-20-fef238247138>\"\u001b[0;36m, line \u001b[0;32m2\u001b[0m\n\u001b[0;31m    interact(plot_brands_2, channel_type=['Hindi GEC', 'Movie Channel'] GRP_brand=True, Total_ad_length=True, brand=brand_list_less, target=target_list, region=region_list )\u001b[0m\n\u001b[0m                                                                                ^\u001b[0m\n\u001b[0;31mSyntaxError\u001b[0m\u001b[0;31m:\u001b[0m invalid syntax\n"
     ]
    }
   ],
   "source": [
    "\n",
    "interact(plot_brands_2, channel_type=['Hindi GEC', 'Movie Channel'] GRP_brand=True, Total_ad_length=True, brand=brand_list_less, target=target_list, region=region_list )\n",
    "\n",
    "\n"
   ]
  },
  {
   "cell_type": "code",
   "execution_count": null,
   "metadata": {},
   "outputs": [],
   "source": [
    "import numpy as np\n",
    "import matplotlib.pyplot as plt\n",
    "\n",
    "df = pd.concat([star_brands, non_star_brands])\n",
    "df_default = pd.concat([non_star_channel_brands, star_channel_brands])\n",
    "\n",
    "# Creates a data set based on user input and plots the graph\n",
    "def plot_brands_2(channel_type, Total_ad_length, brand, target, region):\n",
    "    df = pd.concat([star_brands, non_star_brands])\n",
    "    \n",
    "    #Creating a list of channels based on input from user\n",
    "    #channel_list = []\n",
    "    \n",
    "        \n",
    "    if channel_type == 'Hindi GEC':\n",
    "        channel_list =  hindi_gec_df['channel'].unique().tolist()\n",
    "    else:\n",
    "        channel_list = movies_df['channel'].unique().tolist()\n",
    "    #Creating a dataset with the channels from the list\n",
    "    df1 = df[df['brand']==brand]\n",
    "    df1 = df1[df1.channel.isin(channel_list)]\n",
    "    target_list = df1['target'].unique().tolist()\n",
    "    df1 = df1[df1['target']==target]\n",
    "    region_list = df1['regions'].unique().tolist()\n",
    "    df1 = df1[df1['regions']==region]\n",
    "\n",
    "\n",
    "    # Plots the graph\n",
    "    t= df1['channel']\n",
    "    data1=df1['grp']\n",
    "    data2 = df1['tot_ad_len']\n",
    "    fig, ax1 = plt.subplots()\n",
    "    fig.set_size_inches(25, 9)\n",
    "    color = 'tab:red'\n",
    "    ax1.set_xlabel('Channels')\n",
    "    ax1.set_ylabel('GRP of Brands', color=color)\n",
    "    if GRP_brand == True:\n",
    "        ax1.plot(t, data1, color=color)\n",
    "        ax1.tick_params(axis='y', labelcolor=color)\n",
    "\n",
    "    ax2 = ax1.twinx()  \n",
    "    \n",
    "    color = 'tab:blue'\n",
    "    ax2.set_ylabel('Length of advertise in (s)', color=color) \n",
    "    \n",
    "    if Total_ad_length==True:\n",
    "        ax2.plot(t, data2, color=color)\n",
    "        ax2.tick_params(axis='y', labelcolor=color)\n",
    "\n",
    "    fig.tight_layout()\n",
    "    plt.title(brand)\n",
    "    plt.legend('brand')\n",
    "    plt.show()"
   ]
  },
  {
   "cell_type": "code",
   "execution_count": null,
   "metadata": {},
   "outputs": [],
   "source": [
    "interact(plot_brands,star_plus= True, movies_ok=True, zee_tv=True,STAR_Utsav=True,STAR_Gold = True,and_pictures=True, utv_action=False, sony_sab=True, colors=True, b4u_movies=True, big_magic=False, Sony_entertainment=True, GRP_brand=True, Total_ad_length=True, brand=brand_list_less, target=target_list, region=region_list )"
   ]
  }
 ],
 "metadata": {
  "kernelspec": {
   "display_name": "Python 3",
   "language": "python",
   "name": "python3"
  },
  "language_info": {
   "codemirror_mode": {
    "name": "ipython",
    "version": 3
   },
   "file_extension": ".py",
   "mimetype": "text/x-python",
   "name": "python",
   "nbconvert_exporter": "python",
   "pygments_lexer": "ipython3",
   "version": "3.7.3"
  }
 },
 "nbformat": 4,
 "nbformat_minor": 2
}
