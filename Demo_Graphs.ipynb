{
 "cells": [
  {
   "cell_type": "markdown",
   "metadata": {},
   "source": [
    "### Install Statements for Running in Binder"
   ]
  },
  {
   "cell_type": "code",
   "execution_count": 1,
   "metadata": {
    "collapsed": true
   },
   "outputs": [
    {
     "name": "stdout",
     "output_type": "stream",
     "text": [
      "Requirement already satisfied: numpy in /home/vrushali/anaconda3/lib/python3.7/site-packages (1.16.2)\n",
      "Requirement already satisfied: pandas in /home/vrushali/anaconda3/lib/python3.7/site-packages (0.24.2)\n",
      "Requirement already satisfied: numpy>=1.12.0 in /home/vrushali/anaconda3/lib/python3.7/site-packages (from pandas) (1.16.2)\n",
      "Requirement already satisfied: python-dateutil>=2.5.0 in /home/vrushali/anaconda3/lib/python3.7/site-packages (from pandas) (2.8.0)\n",
      "Requirement already satisfied: pytz>=2011k in /home/vrushali/anaconda3/lib/python3.7/site-packages (from pandas) (2018.9)\n",
      "Requirement already satisfied: six>=1.5 in /home/vrushali/anaconda3/lib/python3.7/site-packages (from python-dateutil>=2.5.0->pandas) (1.12.0)\n",
      "Requirement already satisfied: bokeh in /home/vrushali/anaconda3/lib/python3.7/site-packages (1.0.4)\n",
      "Requirement already satisfied: Jinja2>=2.7 in /home/vrushali/anaconda3/lib/python3.7/site-packages (from bokeh) (2.10)\n",
      "Requirement already satisfied: numpy>=1.7.1 in /home/vrushali/anaconda3/lib/python3.7/site-packages (from bokeh) (1.16.2)\n",
      "Requirement already satisfied: six>=1.5.2 in /home/vrushali/anaconda3/lib/python3.7/site-packages (from bokeh) (1.12.0)\n",
      "Requirement already satisfied: packaging>=16.8 in /home/vrushali/anaconda3/lib/python3.7/site-packages (from bokeh) (19.0)\n",
      "Requirement already satisfied: python-dateutil>=2.1 in /home/vrushali/anaconda3/lib/python3.7/site-packages (from bokeh) (2.8.0)\n",
      "Requirement already satisfied: tornado>=4.3 in /home/vrushali/anaconda3/lib/python3.7/site-packages (from bokeh) (6.0.2)\n",
      "Requirement already satisfied: PyYAML>=3.10 in /home/vrushali/anaconda3/lib/python3.7/site-packages (from bokeh) (5.1)\n",
      "Requirement already satisfied: pillow>=4.0 in /home/vrushali/anaconda3/lib/python3.7/site-packages (from bokeh) (5.4.1)\n",
      "Requirement already satisfied: MarkupSafe>=0.23 in /home/vrushali/anaconda3/lib/python3.7/site-packages (from Jinja2>=2.7->bokeh) (1.1.1)\n",
      "Requirement already satisfied: pyparsing>=2.0.2 in /home/vrushali/anaconda3/lib/python3.7/site-packages (from packaging>=16.8->bokeh) (2.3.1)\n",
      "Requirement already satisfied: ipywidgets in /home/vrushali/anaconda3/lib/python3.7/site-packages (7.4.2)\n",
      "Requirement already satisfied: ipython>=4.0.0; python_version >= \"3.3\" in /home/vrushali/anaconda3/lib/python3.7/site-packages (from ipywidgets) (7.4.0)\n",
      "Requirement already satisfied: nbformat>=4.2.0 in /home/vrushali/anaconda3/lib/python3.7/site-packages (from ipywidgets) (4.4.0)\n",
      "Requirement already satisfied: ipykernel>=4.5.1 in /home/vrushali/anaconda3/lib/python3.7/site-packages (from ipywidgets) (5.1.0)\n",
      "Requirement already satisfied: widgetsnbextension~=3.4.0 in /home/vrushali/anaconda3/lib/python3.7/site-packages (from ipywidgets) (3.4.2)\n",
      "Requirement already satisfied: traitlets>=4.3.1 in /home/vrushali/anaconda3/lib/python3.7/site-packages (from ipywidgets) (4.3.2)\n",
      "Requirement already satisfied: jedi>=0.10 in /home/vrushali/anaconda3/lib/python3.7/site-packages (from ipython>=4.0.0; python_version >= \"3.3\"->ipywidgets) (0.13.3)\n",
      "Requirement already satisfied: pygments in /home/vrushali/anaconda3/lib/python3.7/site-packages (from ipython>=4.0.0; python_version >= \"3.3\"->ipywidgets) (2.3.1)\n",
      "Requirement already satisfied: backcall in /home/vrushali/anaconda3/lib/python3.7/site-packages (from ipython>=4.0.0; python_version >= \"3.3\"->ipywidgets) (0.1.0)\n",
      "Requirement already satisfied: prompt-toolkit<2.1.0,>=2.0.0 in /home/vrushali/anaconda3/lib/python3.7/site-packages (from ipython>=4.0.0; python_version >= \"3.3\"->ipywidgets) (2.0.9)\n",
      "Requirement already satisfied: pexpect; sys_platform != \"win32\" in /home/vrushali/anaconda3/lib/python3.7/site-packages (from ipython>=4.0.0; python_version >= \"3.3\"->ipywidgets) (4.6.0)\n",
      "Requirement already satisfied: setuptools>=18.5 in /home/vrushali/anaconda3/lib/python3.7/site-packages (from ipython>=4.0.0; python_version >= \"3.3\"->ipywidgets) (40.8.0)\n",
      "Requirement already satisfied: pickleshare in /home/vrushali/anaconda3/lib/python3.7/site-packages (from ipython>=4.0.0; python_version >= \"3.3\"->ipywidgets) (0.7.5)\n",
      "Requirement already satisfied: decorator in /home/vrushali/anaconda3/lib/python3.7/site-packages (from ipython>=4.0.0; python_version >= \"3.3\"->ipywidgets) (4.4.0)\n",
      "Requirement already satisfied: jsonschema!=2.5.0,>=2.4 in /home/vrushali/anaconda3/lib/python3.7/site-packages (from nbformat>=4.2.0->ipywidgets) (3.0.1)\n",
      "Requirement already satisfied: jupyter-core in /home/vrushali/anaconda3/lib/python3.7/site-packages (from nbformat>=4.2.0->ipywidgets) (4.4.0)\n",
      "Requirement already satisfied: ipython-genutils in /home/vrushali/anaconda3/lib/python3.7/site-packages (from nbformat>=4.2.0->ipywidgets) (0.2.0)\n",
      "Requirement already satisfied: tornado>=4.2 in /home/vrushali/anaconda3/lib/python3.7/site-packages (from ipykernel>=4.5.1->ipywidgets) (6.0.2)\n",
      "Requirement already satisfied: jupyter-client in /home/vrushali/anaconda3/lib/python3.7/site-packages (from ipykernel>=4.5.1->ipywidgets) (5.2.4)\n",
      "Requirement already satisfied: notebook>=4.4.1 in /home/vrushali/anaconda3/lib/python3.7/site-packages (from widgetsnbextension~=3.4.0->ipywidgets) (5.7.8)\n",
      "Requirement already satisfied: six in /home/vrushali/anaconda3/lib/python3.7/site-packages (from traitlets>=4.3.1->ipywidgets) (1.12.0)\n",
      "Requirement already satisfied: parso>=0.3.0 in /home/vrushali/anaconda3/lib/python3.7/site-packages (from jedi>=0.10->ipython>=4.0.0; python_version >= \"3.3\"->ipywidgets) (0.3.4)\n",
      "Requirement already satisfied: wcwidth in /home/vrushali/anaconda3/lib/python3.7/site-packages (from prompt-toolkit<2.1.0,>=2.0.0->ipython>=4.0.0; python_version >= \"3.3\"->ipywidgets) (0.1.7)\n",
      "Requirement already satisfied: ptyprocess>=0.5 in /home/vrushali/anaconda3/lib/python3.7/site-packages (from pexpect; sys_platform != \"win32\"->ipython>=4.0.0; python_version >= \"3.3\"->ipywidgets) (0.6.0)\n",
      "Requirement already satisfied: attrs>=17.4.0 in /home/vrushali/anaconda3/lib/python3.7/site-packages (from jsonschema!=2.5.0,>=2.4->nbformat>=4.2.0->ipywidgets) (19.1.0)\n",
      "Requirement already satisfied: pyrsistent>=0.14.0 in /home/vrushali/anaconda3/lib/python3.7/site-packages (from jsonschema!=2.5.0,>=2.4->nbformat>=4.2.0->ipywidgets) (0.14.11)\n",
      "Requirement already satisfied: python-dateutil>=2.1 in /home/vrushali/anaconda3/lib/python3.7/site-packages (from jupyter-client->ipykernel>=4.5.1->ipywidgets) (2.8.0)\n",
      "Requirement already satisfied: pyzmq>=13 in /home/vrushali/anaconda3/lib/python3.7/site-packages (from jupyter-client->ipykernel>=4.5.1->ipywidgets) (18.0.0)\n",
      "Requirement already satisfied: nbconvert in /home/vrushali/anaconda3/lib/python3.7/site-packages (from notebook>=4.4.1->widgetsnbextension~=3.4.0->ipywidgets) (5.4.1)\n",
      "Requirement already satisfied: Send2Trash in /home/vrushali/anaconda3/lib/python3.7/site-packages (from notebook>=4.4.1->widgetsnbextension~=3.4.0->ipywidgets) (1.5.0)\n",
      "Requirement already satisfied: prometheus-client in /home/vrushali/anaconda3/lib/python3.7/site-packages (from notebook>=4.4.1->widgetsnbextension~=3.4.0->ipywidgets) (0.6.0)\n",
      "Requirement already satisfied: jinja2 in /home/vrushali/anaconda3/lib/python3.7/site-packages (from notebook>=4.4.1->widgetsnbextension~=3.4.0->ipywidgets) (2.10)\n",
      "Requirement already satisfied: terminado>=0.8.1 in /home/vrushali/anaconda3/lib/python3.7/site-packages (from notebook>=4.4.1->widgetsnbextension~=3.4.0->ipywidgets) (0.8.1)\n",
      "Requirement already satisfied: mistune>=0.8.1 in /home/vrushali/anaconda3/lib/python3.7/site-packages (from nbconvert->notebook>=4.4.1->widgetsnbextension~=3.4.0->ipywidgets) (0.8.4)\n",
      "Requirement already satisfied: entrypoints>=0.2.2 in /home/vrushali/anaconda3/lib/python3.7/site-packages (from nbconvert->notebook>=4.4.1->widgetsnbextension~=3.4.0->ipywidgets) (0.3)\n",
      "Requirement already satisfied: bleach in /home/vrushali/anaconda3/lib/python3.7/site-packages (from nbconvert->notebook>=4.4.1->widgetsnbextension~=3.4.0->ipywidgets) (3.1.0)\n",
      "Requirement already satisfied: pandocfilters>=1.4.1 in /home/vrushali/anaconda3/lib/python3.7/site-packages (from nbconvert->notebook>=4.4.1->widgetsnbextension~=3.4.0->ipywidgets) (1.4.2)\n",
      "Requirement already satisfied: testpath in /home/vrushali/anaconda3/lib/python3.7/site-packages (from nbconvert->notebook>=4.4.1->widgetsnbextension~=3.4.0->ipywidgets) (0.4.2)\n",
      "Requirement already satisfied: defusedxml in /home/vrushali/anaconda3/lib/python3.7/site-packages (from nbconvert->notebook>=4.4.1->widgetsnbextension~=3.4.0->ipywidgets) (0.5.0)\n",
      "Requirement already satisfied: MarkupSafe>=0.23 in /home/vrushali/anaconda3/lib/python3.7/site-packages (from jinja2->notebook>=4.4.1->widgetsnbextension~=3.4.0->ipywidgets) (1.1.1)\n",
      "Requirement already satisfied: webencodings in /home/vrushali/anaconda3/lib/python3.7/site-packages (from bleach->nbconvert->notebook>=4.4.1->widgetsnbextension~=3.4.0->ipywidgets) (0.5.1)\n"
     ]
    },
    {
     "name": "stdout",
     "output_type": "stream",
     "text": [
      "Requirement already satisfied: matplotlib in /home/vrushali/anaconda3/lib/python3.7/site-packages (3.0.3)\r\n",
      "Requirement already satisfied: numpy>=1.10.0 in /home/vrushali/anaconda3/lib/python3.7/site-packages (from matplotlib) (1.16.2)\r\n",
      "Requirement already satisfied: cycler>=0.10 in /home/vrushali/anaconda3/lib/python3.7/site-packages (from matplotlib) (0.10.0)\r\n",
      "Requirement already satisfied: kiwisolver>=1.0.1 in /home/vrushali/anaconda3/lib/python3.7/site-packages (from matplotlib) (1.0.1)\r\n",
      "Requirement already satisfied: pyparsing!=2.0.4,!=2.1.2,!=2.1.6,>=2.0.1 in /home/vrushali/anaconda3/lib/python3.7/site-packages (from matplotlib) (2.3.1)\r\n",
      "Requirement already satisfied: python-dateutil>=2.1 in /home/vrushali/anaconda3/lib/python3.7/site-packages (from matplotlib) (2.8.0)\r\n",
      "Requirement already satisfied: six in /home/vrushali/anaconda3/lib/python3.7/site-packages (from cycler>=0.10->matplotlib) (1.12.0)\r\n",
      "Requirement already satisfied: setuptools in /home/vrushali/anaconda3/lib/python3.7/site-packages (from kiwisolver>=1.0.1->matplotlib) (40.8.0)\r\n"
     ]
    }
   ],
   "source": [
    "!pip install numpy\n",
    "!pip install pandas\n",
    "!pip install bokeh\n",
    "!pip install ipywidgets\n",
    "!pip install matplotlib"
   ]
  },
  {
   "cell_type": "markdown",
   "metadata": {},
   "source": [
    "### Import Statements"
   ]
  },
  {
   "cell_type": "code",
   "execution_count": 2,
   "metadata": {},
   "outputs": [],
   "source": [
    "import numpy as np\n",
    "import pandas as pd\n",
    "\n",
    "from bokeh.plotting import figure, output_file, show, ColumnDataSource, output_notebook, save\n",
    "from bokeh.models.tools import HoverTool\n",
    "from bokeh.transform import factor_cmap\n",
    "from bokeh.palettes import Blues8\n",
    "from bokeh.embed import components\n",
    "\n",
    "import numpy as np\n",
    "import matplotlib.pyplot as plt\n",
    "import matplotlib.pyplot as plt\n",
    "from matplotlib.dates import date2num\n",
    "import datetime\n",
    "\n",
    "from ipywidgets import interact, interactive\n"
   ]
  },
  {
   "cell_type": "code",
   "execution_count": 3,
   "metadata": {},
   "outputs": [],
   "source": [
    "import warnings\n",
    "\n",
    "warnings.simplefilter('ignore')"
   ]
  },
  {
   "cell_type": "markdown",
   "metadata": {},
   "source": [
    "### Reading Data from CSV File"
   ]
  },
  {
   "cell_type": "code",
   "execution_count": 4,
   "metadata": {},
   "outputs": [],
   "source": [
    "#Get data from stored csv files\n",
    "\n",
    "# Hindi GEC channels with start plus\n",
    "hindi_gec_df = pd.read_csv('resource_backup/brand_grps_hindi_tg_r.csv')\n",
    "hindi_gec_df.fillna('STAR Plus', inplace = True)\n",
    "hindi_gec_df = hindi_gec_df.round(2)\n",
    "\n",
    "\n",
    "# Movie channels\n",
    "movies_df = pd.read_csv('resource_backup/brand_grps_movies_tg_r.csv')\n",
    "movies_df.fillna('Movies OK', inplace = True)\n",
    "movies_df = movies_df.round(2)\n"
   ]
  },
  {
   "cell_type": "markdown",
   "metadata": {},
   "source": [
    "### Updating datasets"
   ]
  },
  {
   "cell_type": "code",
   "execution_count": 5,
   "metadata": {},
   "outputs": [],
   "source": [
    "# defining global variables for easier access\n",
    "\n",
    "brand_list=[]\n",
    "target_list=[]\n",
    "brand1=''\n",
    "df  = pd.DataFrame(columns = hindi_gec_df.columns)\n",
    "df1 =  pd.DataFrame(columns = hindi_gec_df.columns)\n",
    "df2  = pd.DataFrame(columns = hindi_gec_df.columns)\n",
    "df3 =  pd.DataFrame(columns = hindi_gec_df.columns)"
   ]
  },
  {
   "cell_type": "code",
   "execution_count": 6,
   "metadata": {},
   "outputs": [],
   "source": [
    "#data filter based on region\n",
    "\n",
    "def select_region(region):\n",
    "\n",
    "    global df1\n",
    "    global df3\n",
    "    global target_list\n",
    "    df3 = df2[df2['regions']==region]\n",
    "    \n",
    "    plot_brands_2(True, True)\n"
   ]
  },
  {
   "cell_type": "code",
   "execution_count": 7,
   "metadata": {},
   "outputs": [],
   "source": [
    "#data filter based on target\n",
    "\n",
    "def select_target(target):\n",
    "    global df1\n",
    "    global df2\n",
    "    global target_list\n",
    "    df2 = df1[df1['target']==target]\n",
    "    region_list = df2['regions'].unique()\n",
    "    \n",
    "    select_region(region_list[0])\n",
    "    #interact(select_region, region = region_list)"
   ]
  },
  {
   "cell_type": "code",
   "execution_count": 8,
   "metadata": {},
   "outputs": [],
   "source": [
    "# data filtering based on brand\n",
    "\n",
    "def select_brand(brand):\n",
    "    global df1\n",
    "    global df\n",
    "    global brand1 \n",
    "    global target_region_list\n",
    "    brand1= brand\n",
    "    df1 = df[df['brand']==brand]\n",
    "    target_list = df['target'].unique()\n",
    "    \n",
    "    select_target(target_list[0])\n",
    "    #interact(select_target, target = target_list)    "
   ]
  },
  {
   "cell_type": "code",
   "execution_count": 9,
   "metadata": {},
   "outputs": [],
   "source": [
    "#data filtering based on type of channel    \n",
    "        \n",
    "def select_base_dataset(channel_type):\n",
    "    global brand_list\n",
    "    global df\n",
    "    if channel_type == 'HINDI_GEC_CHANNELS':   \n",
    "        df=hindi_gec_df\n",
    "        brand_list = hindi_gec_df['brand'].unique()        \n",
    "        interact(select_brand, brand = brand_list)\n",
    "\n",
    "    elif channel_type == 'MOVIE_CHANNELS':\n",
    "        brand_list = movies_df['brand'].unique()\n",
    "        df = movies_df\n",
    "        interact(select_brand, brand = brand_list)\n"
   ]
  },
  {
   "cell_type": "code",
   "execution_count": 10,
   "metadata": {},
   "outputs": [],
   "source": [
    "#Plotting        \n",
    "def plot_brands_2(total_ad_len, GRP_brand):\n",
    "    global df3\n",
    "    global brand1     \n",
    "    # Sets the defaultgraph values\n",
    "    barWidth = 0.25   \n",
    "    fig, ax1 = plt.subplots()\n",
    "    fig.set_size_inches(13, 6)\n",
    "    color = 'tab:red'\n",
    "    ax1.set_xlabel('Channels')\n",
    "    ax1.set_ylabel('GRP of Brands', color=color)\n",
    "    \n",
    "    #Sets the dataset for plotting\n",
    "    t= df3['channel']\n",
    "    data1=df3['grp']\n",
    "    data2 = df3['tot_ad_len']\n",
    "    \n",
    "    #sets the position of bars\n",
    "    temp = 0\n",
    "    yPos1=[]\n",
    "    yPos2=[]\n",
    "    yPos3=[]\n",
    "    for val in t:\n",
    "        yPos1.append(temp)\n",
    "        yPos2.append(temp+1)\n",
    "        yPos3.append(temp+0.5)\n",
    "        temp = temp+4\n",
    "    \n",
    "    #Plots Grp if true\n",
    "    if GRP_brand == True:\n",
    "        r1 = np.arange(len(data1))\n",
    "        ax1.bar(yPos1, data1, color=color)\n",
    "        ax1.tick_params(axis='y', labelcolor=color)\n",
    "\n",
    "    ax2 = ax1.twinx()  \n",
    "    \n",
    "    color = 'tab:blue'\n",
    "    ax2.set_ylabel('Length of advertise in (s)', color=color) \n",
    "    \n",
    "     #Plots ad length if true\n",
    "    if total_ad_len==True:\n",
    "        r2 = [x + barWidth for x in data2]\n",
    "        ax2.bar(yPos2, data2, color=color)\n",
    "        ax2.tick_params(axis='y', labelcolor=color)\n",
    "    \n",
    "    plt.xticks(yPos3, t)\n",
    "    fig.tight_layout()\n",
    "    plt.title(brand1)\n",
    "    if GRP_brand == True and total_ad_len ==True:\n",
    "        plt.legend('brand',\"random\")\n",
    "    plt.show()\n",
    "\n",
    "    "
   ]
  },
  {
   "cell_type": "code",
   "execution_count": 12,
   "metadata": {},
   "outputs": [
    {
     "data": {
      "application/vnd.jupyter.widget-view+json": {
       "model_id": "e60c5cbf89f64edbab3c307cb0f79630",
       "version_major": 2,
       "version_minor": 0
      },
      "text/plain": [
       "interactive(children=(Dropdown(description='channel_type', options=('HINDI_GEC_CHANNELS', 'MOVIE_CHANNELS'), v…"
      ]
     },
     "metadata": {},
     "output_type": "display_data"
    },
    {
     "data": {
      "text/plain": [
       "<function __main__.select_base_dataset(channel_type)>"
      ]
     },
     "execution_count": 12,
     "metadata": {},
     "output_type": "execute_result"
    }
   ],
   "source": [
    "from ipywidgets import interactive, HBox, VBox\n",
    "interact(select_base_dataset, channel_type=['HINDI_GEC_CHANNELS', 'MOVIE_CHANNELS'])   "
   ]
  },
  {
   "cell_type": "code",
   "execution_count": null,
   "metadata": {},
   "outputs": [],
   "source": []
  }
 ],
 "metadata": {
  "kernelspec": {
   "display_name": "Python 3",
   "language": "python",
   "name": "python3"
  },
  "language_info": {
   "codemirror_mode": {
    "name": "ipython",
    "version": 3
   },
   "file_extension": ".py",
   "mimetype": "text/x-python",
   "name": "python",
   "nbconvert_exporter": "python",
   "pygments_lexer": "ipython3",
   "version": "3.7.3"
  }
 },
 "nbformat": 4,
 "nbformat_minor": 2
}
